{
 "cells": [
  {
   "cell_type": "markdown",
   "metadata": {},
   "source": [
    "# LangGraph Notes\n",
    "\n",
    "## Control \n",
    "https://langchain-ai.github.io/langgraph/how-tos/command/?h=command\n",
    "\n",
    "Gives you the ability to manage control flow and state. It is a class that returns an update dictionary which is used to update the state, and a goto property which is set to a string that notes the next node to move to. \n",
    "\n",
    "## Literal Type Hint\n",
    "Means that variable must be the exact value noted.\n",
    "\n",
    "## State\n",
    "\n",
    "## Control Flow\n",
    "A term used to describe how the flow of execution is controlled between different Nodes\n",
    "\n",
    "# llm.with_structured_output\n",
    "You can have the llm respond with a specific schema. You can submit a class and it will return the data in schema of that class. \n",
    "\n",
    "\n",
    "\n"
   ]
  }
 ],
 "metadata": {
  "language_info": {
   "name": "python"
  }
 },
 "nbformat": 4,
 "nbformat_minor": 2
}
